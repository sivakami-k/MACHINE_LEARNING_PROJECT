{
  "nbformat": 4,
  "nbformat_minor": 0,
  "metadata": {
    "colab": {
      "provenance": [],
      "mount_file_id": "1uNFwzQJhVeH7mELm_1vrbPWroMmSyKr6",
      "authorship_tag": "ABX9TyPMzfLs0K1O7NZpNiDD5r3o",
      "include_colab_link": true
    },
    "kernelspec": {
      "name": "python3",
      "display_name": "Python 3"
    },
    "language_info": {
      "name": "python"
    }
  },
  "cells": [
    {
      "cell_type": "markdown",
      "metadata": {
        "id": "view-in-github",
        "colab_type": "text"
      },
      "source": [
        "<a href=\"https://colab.research.google.com/github/sivakami-k/MACHINE_LEARNING_PROJECT/blob/main/NLP/NER.ipynb\" target=\"_parent\"><img src=\"https://colab.research.google.com/assets/colab-badge.svg\" alt=\"Open In Colab\"/></a>"
      ]
    },
    {
      "cell_type": "code",
      "execution_count": 1,
      "metadata": {
        "id": "k-0vkWicumZB"
      },
      "outputs": [],
      "source": [
        "import spacy\n",
        "nlp = spacy.load(\"en_core_web_sm\")"
      ]
    },
    {
      "cell_type": "code",
      "source": [
        "# Sample text for NER\n",
        "sample_text = \"\"\"\n",
        "Apple Inc. is planning to open a new store in San Francisco on January 20, 2024.\n",
        "Elon Musk, the CEO of Tesla, announced a new electric car model at a recent conference.\n",
        "The Eiffel Tower is located in Paris, France.\n",
        "\"\"\"\n",
        "\n",
        "# Process the sample text with spaCy NLP pipeline\n",
        "doc = nlp(sample_text)\n",
        "\n",
        "print(doc.ents)"
      ],
      "metadata": {
        "colab": {
          "base_uri": "https://localhost:8080/"
        },
        "id": "uqO7iRfVusWy",
        "outputId": "515a0e2d-a16f-462f-f060-650be2129952"
      },
      "execution_count": 2,
      "outputs": [
        {
          "output_type": "stream",
          "name": "stdout",
          "text": [
            "(Apple Inc., San Francisco, January 20, 2024, Elon Musk, Tesla, The Eiffel Tower, Paris, France)\n"
          ]
        }
      ]
    },
    {
      "cell_type": "code",
      "source": [
        "for  ent in doc.ents:\n",
        "  print(f\"{ent.text} - {ent.label_}\")"
      ],
      "metadata": {
        "colab": {
          "base_uri": "https://localhost:8080/"
        },
        "id": "q-jsv9kZvDAt",
        "outputId": "0ec3d244-22ca-4ee1-cf58-326d4b3875c4"
      },
      "execution_count": 7,
      "outputs": [
        {
          "output_type": "stream",
          "name": "stdout",
          "text": [
            "Apple Inc. - ORG\n",
            "San Francisco - GPE\n",
            "January 20, 2024 - DATE\n",
            "Elon Musk - PERSON\n",
            "Tesla - ORG\n",
            "The Eiffel Tower - FAC\n",
            "Paris - GPE\n",
            "France - GPE\n"
          ]
        }
      ]
    },
    {
      "cell_type": "code",
      "source": [
        "\n",
        "# Sample text for NER\n",
        "sample_text = \"\"\"\n",
        "Google was founded by Larry Page and Sergey Brin in September 1998.\n",
        "The Mona Lisa, painted by Leonardo da Vinci, is displayed in the Louvre Museum.\n",
        "Albert Einstein, born on March 14, 1879, was a theoretical physicist.\n",
        "\"\"\"\n",
        "\n",
        "# Process the sample text with spaCy NLP pipeline\n",
        "doc = nlp(sample_text)\n",
        "\n",
        "# Extract and print named entities\n",
        "print(\"Named Entities:\")\n",
        "for ent in doc.ents:\n",
        "    print(f\"{ent.text} - {ent.label_}\")\n",
        "\n",
        "# Extract and print entities with more details\n",
        "print(\"\\nDetailed Entities:\")\n",
        "for ent in doc.ents:\n",
        "    print(f\"{ent.text} - {ent.start} to {ent.end-1} ({ent.label_}) - {spacy.explain(ent.label_)}\")"
      ],
      "metadata": {
        "colab": {
          "base_uri": "https://localhost:8080/"
        },
        "id": "DOH3Z4DDwX5u",
        "outputId": "ffb01e9b-2e44-4247-fd48-9ed2076ad7ad"
      },
      "execution_count": 8,
      "outputs": [
        {
          "output_type": "stream",
          "name": "stdout",
          "text": [
            "Named Entities:\n",
            "Google - ORG\n",
            "Larry Page - PERSON\n",
            "Sergey Brin - PERSON\n",
            "September 1998 - DATE\n",
            "The Mona Lisa - WORK_OF_ART\n",
            "Leonardo da Vinci - PERSON\n",
            "the Louvre Museum - ORG\n",
            "Albert Einstein - PERSON\n",
            "March 14, 1879 - DATE\n",
            "\n",
            "Detailed Entities:\n",
            "Google - 1 to 1 (ORG) - Companies, agencies, institutions, etc.\n",
            "Larry Page - 5 to 6 (PERSON) - People, including fictional\n",
            "Sergey Brin - 8 to 9 (PERSON) - People, including fictional\n",
            "September 1998 - 11 to 12 (DATE) - Absolute or relative dates or periods\n",
            "The Mona Lisa - 15 to 17 (WORK_OF_ART) - Titles of books, songs, etc.\n",
            "Leonardo da Vinci - 21 to 23 (PERSON) - People, including fictional\n",
            "the Louvre Museum - 28 to 30 (ORG) - Companies, agencies, institutions, etc.\n",
            "Albert Einstein - 33 to 34 (PERSON) - People, including fictional\n",
            "March 14, 1879 - 38 to 41 (DATE) - Absolute or relative dates or periods\n"
          ]
        }
      ]
    }
  ]
}